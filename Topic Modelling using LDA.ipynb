{
 "cells": [
  {
   "cell_type": "markdown",
   "metadata": {},
   "source": [
    "## Topic Modeling and Latent Dirichlet Allocation (LDA) in Python"
   ]
  },
  {
   "cell_type": "markdown",
   "metadata": {},
   "source": [
    "Topic modeling is a type of statistical modeling for discovering the abstract “topics” that occur in a collection of documents. Latent Dirichlet Allocation (LDA) is an example of topic model and is used to classify text in a document to a particular topic. It builds a topic per document model and words per topic model, modeled as Dirichlet distributions.\n",
    "Here we are going to apply LDA to a set of documents and split them into topics. Let’s get started!\n",
    "#### The Data\n",
    "The data set we’ll use is a list of over one million news headlines published over a period of 15 years and can be downloaded from Kaggle."
   ]
  },
  {
   "cell_type": "code",
   "execution_count": null,
   "metadata": {},
   "outputs": [],
   "source": []
  },
  {
   "cell_type": "code",
   "execution_count": 1,
   "metadata": {},
   "outputs": [],
   "source": [
    "import pandas as pd\n",
    "data = pd.read_csv('abcnews-date-text.csv', error_bad_lines=False);\n",
    "data_text = data[['headline_text']]\n",
    "data_text['index'] = data_text.index\n",
    "documents = data_text"
   ]
  },
  {
   "cell_type": "code",
   "execution_count": 2,
   "metadata": {},
   "outputs": [
    {
     "name": "stdout",
     "output_type": "stream",
     "text": [
      "1103663\n",
      "                                       headline_text  index\n",
      "0  aba decides against community broadcasting lic...      0\n",
      "1     act fire witnesses must be aware of defamation      1\n",
      "2     a g calls for infrastructure protection summit      2\n",
      "3           air nz staff in aust strike for pay rise      3\n",
      "4      air nz strike to affect australian travellers      4\n"
     ]
    }
   ],
   "source": [
    "print(len(documents))\n",
    "print(documents[:5])"
   ]
  },
  {
   "cell_type": "code",
   "execution_count": null,
   "metadata": {},
   "outputs": [],
   "source": []
  },
  {
   "cell_type": "markdown",
   "metadata": {},
   "source": [
    "## Data Pre-processing\n",
    "We will perform the following steps:\n",
    "* Tokenization: Split the text into sentences and the sentences into words. Lowercase the words and remove punctuation.\n",
    "Words that have fewer than 3 characters are removed.\n",
    "* All stopwords are removed.\n",
    "* Words are lemmatized — words in third person are changed to first person and verbs in past and future tenses are changed into present.\n",
    "* Words are stemmed — words are reduced to their root form."
   ]
  },
  {
   "cell_type": "markdown",
   "metadata": {},
   "source": [
    "### Loading gensim and nltk libraries"
   ]
  },
  {
   "cell_type": "code",
   "execution_count": 4,
   "metadata": {},
   "outputs": [
    {
     "name": "stderr",
     "output_type": "stream",
     "text": [
      "D:\\anaconda\\lib\\site-packages\\smart_open\\ssh.py:34: UserWarning: paramiko missing, opening SSH/SCP/SFTP paths will be disabled.  `pip install paramiko` to suppress\n",
      "  warnings.warn('paramiko missing, opening SSH/SCP/SFTP paths will be disabled.  `pip install paramiko` to suppress')\n",
      "D:\\anaconda\\lib\\site-packages\\gensim\\utils.py:1197: UserWarning: detected Windows; aliasing chunkize to chunkize_serial\n",
      "  warnings.warn(\"detected Windows; aliasing chunkize to chunkize_serial\")\n",
      "[nltk_data] Downloading package wordnet to\n",
      "[nltk_data]     C:\\Users\\ajumo\\AppData\\Roaming\\nltk_data...\n",
      "[nltk_data]   Unzipping corpora\\wordnet.zip.\n"
     ]
    },
    {
     "data": {
      "text/plain": [
       "True"
      ]
     },
     "execution_count": 4,
     "metadata": {},
     "output_type": "execute_result"
    }
   ],
   "source": [
    "import gensim\n",
    "from gensim.utils import simple_preprocess\n",
    "from gensim.parsing.preprocessing import STOPWORDS\n",
    "from nltk.stem import WordNetLemmatizer, SnowballStemmer\n",
    "from nltk.stem.porter import *\n",
    "import numpy as np\n",
    "np.random.seed(2018)\n",
    "import nltk\n",
    "nltk.download('wordnet')"
   ]
  },
  {
   "cell_type": "code",
   "execution_count": 9,
   "metadata": {},
   "outputs": [],
   "source": [
    "stemmer=SnowballStemmer(language='english')"
   ]
  },
  {
   "cell_type": "markdown",
   "metadata": {},
   "source": [
    "**Write a function to perform lemmatize and stem preprocessing steps on the data set.**"
   ]
  },
  {
   "cell_type": "code",
   "execution_count": 10,
   "metadata": {},
   "outputs": [],
   "source": [
    "def lemmatize_stemming(text):\n",
    "    return stemmer.stem(WordNetLemmatizer().lemmatize(text, pos='v'))\n",
    "def preprocess(text):\n",
    "    result = []\n",
    "    for token in gensim.utils.simple_preprocess(text):\n",
    "        if token not in gensim.parsing.preprocessing.STOPWORDS and len(token) > 3:\n",
    "            result.append(lemmatize_stemming(token))\n",
    "    return result"
   ]
  },
  {
   "cell_type": "code",
   "execution_count": null,
   "metadata": {},
   "outputs": [],
   "source": []
  },
  {
   "cell_type": "markdown",
   "metadata": {},
   "source": []
  },
  {
   "cell_type": "markdown",
   "metadata": {},
   "source": [
    "**Select a document to preview after preprocessing.** "
   ]
  },
  {
   "cell_type": "code",
   "execution_count": 11,
   "metadata": {},
   "outputs": [
    {
     "name": "stdout",
     "output_type": "stream",
     "text": [
      "original document: \n",
      "['rain', 'helps', 'dampen', 'bushfires']\n",
      "\n",
      "\n",
      " tokenized and lemmatized document: \n",
      "['rain', 'help', 'dampen', 'bushfir']\n"
     ]
    }
   ],
   "source": [
    "doc_sample = documents[documents['index'] == 4310].values[0][0]\n",
    "print('original document: ')\n",
    "words = []\n",
    "for word in doc_sample.split(' '):\n",
    "    words.append(word)\n",
    "print(words)\n",
    "print('\\n\\n tokenized and lemmatized document: ')\n",
    "print(preprocess(doc_sample))"
   ]
  },
  {
   "cell_type": "markdown",
   "metadata": {},
   "source": []
  },
  {
   "cell_type": "markdown",
   "metadata": {},
   "source": [
    "### Preprocess the headline text, saving the results as ‘processed_docs’"
   ]
  },
  {
   "cell_type": "code",
   "execution_count": 14,
   "metadata": {},
   "outputs": [
    {
     "data": {
      "text/plain": [
       "0            [decid, communiti, broadcast, licenc]\n",
       "1                               [wit, awar, defam]\n",
       "2           [call, infrastructur, protect, summit]\n",
       "3                      [staff, aust, strike, rise]\n",
       "4             [strike, affect, australian, travel]\n",
       "5               [ambiti, olsson, win, tripl, jump]\n",
       "6           [antic, delight, record, break, barca]\n",
       "7    [aussi, qualifi, stosur, wast, memphi, match]\n",
       "8            [aust, address, secur, council, iraq]\n",
       "9                         [australia, lock, timet]\n",
       "Name: headline_text, dtype: object"
      ]
     },
     "execution_count": 14,
     "metadata": {},
     "output_type": "execute_result"
    }
   ],
   "source": [
    "processed_docs = documents['headline_text'].map(preprocess)\n",
    "processed_docs[:10]"
   ]
  },
  {
   "cell_type": "markdown",
   "metadata": {},
   "source": [
    "### Bag of Words on the Data set\n",
    "Create a dictionary from ‘processed_docs’ containing the number of times a word appears in the training set."
   ]
  },
  {
   "cell_type": "code",
   "execution_count": 16,
   "metadata": {},
   "outputs": [
    {
     "name": "stdout",
     "output_type": "stream",
     "text": [
      "0 broadcast\n",
      "1 communiti\n",
      "2 decid\n",
      "3 licenc\n",
      "4 awar\n",
      "5 defam\n",
      "6 wit\n",
      "7 call\n",
      "8 infrastructur\n",
      "9 protect\n",
      "10 summit\n"
     ]
    }
   ],
   "source": [
    "dictionary = gensim.corpora.Dictionary(processed_docs)\n",
    "count = 0\n",
    "for k, v in dictionary.iteritems():\n",
    "    print(k, v)\n",
    "    count += 1\n",
    "    if count > 10:\n",
    "        break"
   ]
  },
  {
   "cell_type": "markdown",
   "metadata": {},
   "source": [
    "### Gensim filter_extremes\n",
    "\n",
    "* Filter out tokens that appear in\n",
    "* less than 15 documents (absolute number) or\n",
    "* more than 0.5 documents (fraction of total corpus size, not absolute number).\n",
    "* after the above two steps, keep only the first 100000 most frequent tokens."
   ]
  },
  {
   "cell_type": "code",
   "execution_count": 17,
   "metadata": {},
   "outputs": [],
   "source": [
    "dictionary.filter_extremes(no_below=15, no_above=0.5, keep_n=100000)"
   ]
  },
  {
   "cell_type": "markdown",
   "metadata": {},
   "source": [
    "### Gensim doc2bow\n",
    "For each document we create a dictionary reporting how many\n",
    "words and how many times those words appear. Save this to ‘bow_corpus’, then check our selected document earlier."
   ]
  },
  {
   "cell_type": "code",
   "execution_count": 18,
   "metadata": {},
   "outputs": [
    {
     "data": {
      "text/plain": [
       "[(76, 1), (112, 1), (484, 1), (4015, 1)]"
      ]
     },
     "execution_count": 18,
     "metadata": {},
     "output_type": "execute_result"
    }
   ],
   "source": [
    "bow_corpus = [dictionary.doc2bow(doc) for doc in processed_docs]\n",
    "bow_corpus[4310]"
   ]
  },
  {
   "cell_type": "code",
   "execution_count": 20,
   "metadata": {},
   "outputs": [
    {
     "data": {
      "text/plain": [
       "[(6, 1), (7, 1)]"
      ]
     },
     "execution_count": 20,
     "metadata": {},
     "output_type": "execute_result"
    }
   ],
   "source": [
    "dictionary.doc2bow(['call','wit'])"
   ]
  },
  {
   "cell_type": "code",
   "execution_count": null,
   "metadata": {},
   "outputs": [],
   "source": []
  },
  {
   "cell_type": "code",
   "execution_count": 21,
   "metadata": {},
   "outputs": [
    {
     "name": "stdout",
     "output_type": "stream",
     "text": [
      "Word 76 (\"bushfir\") appears 1 time.\n",
      "Word 112 (\"help\") appears 1 time.\n",
      "Word 484 (\"rain\") appears 1 time.\n",
      "Word 4015 (\"dampen\") appears 1 time.\n"
     ]
    }
   ],
   "source": [
    "bow_doc_4310 = bow_corpus[4310]\n",
    "for i in range(len(bow_doc_4310)):\n",
    "    print(\"Word {} (\\\"{}\\\") appears {} time.\".format(bow_doc_4310[i][0], \n",
    "                                               dictionary[bow_doc_4310[i][0]], \n",
    "bow_doc_4310[i][1]))"
   ]
  },
  {
   "cell_type": "code",
   "execution_count": null,
   "metadata": {},
   "outputs": [],
   "source": []
  },
  {
   "cell_type": "markdown",
   "metadata": {},
   "source": [
    "### TF-IDF\n",
    "Create tf-idf model object using models.TfidfModel on ‘bow_corpus’ and save it to ‘tfidf’, then apply transformation to the entire corpus and call it ‘corpus_tfidf’. Finally we preview TF-IDF scores for our first document."
   ]
  },
  {
   "cell_type": "code",
   "execution_count": null,
   "metadata": {},
   "outputs": [],
   "source": []
  },
  {
   "cell_type": "code",
   "execution_count": 22,
   "metadata": {},
   "outputs": [
    {
     "name": "stdout",
     "output_type": "stream",
     "text": [
      "[(0, 0.5893154583024485),\n",
      " (1, 0.3892866165028569),\n",
      " (2, 0.49651921997736453),\n",
      " (3, 0.5046106271280878)]\n"
     ]
    }
   ],
   "source": [
    "from gensim import corpora, models\n",
    "tfidf = models.TfidfModel(bow_corpus)\n",
    "corpus_tfidf = tfidf[bow_corpus]\n",
    "from pprint import pprint\n",
    "for doc in corpus_tfidf:\n",
    "    pprint(doc)\n",
    "    break"
   ]
  },
  {
   "cell_type": "markdown",
   "metadata": {},
   "source": [
    "### Running LDA using Bag of Words\n",
    "Train our lda model using gensim.models.LdaMulticore and save it to ‘lda_model’"
   ]
  },
  {
   "cell_type": "code",
   "execution_count": 23,
   "metadata": {},
   "outputs": [],
   "source": [
    "lda_model = gensim.models.LdaMulticore(bow_corpus, num_topics=10, id2word=dictionary, passes=2, workers=2)"
   ]
  },
  {
   "cell_type": "markdown",
   "metadata": {},
   "source": [
    "For each topic, we will explore the words occuring in that topic and its relative weight."
   ]
  },
  {
   "cell_type": "code",
   "execution_count": 24,
   "metadata": {},
   "outputs": [
    {
     "name": "stdout",
     "output_type": "stream",
     "text": [
      "Topic: 0 \n",
      "Words: 0.023*\"death\" + 0.020*\"hospit\" + 0.016*\"trial\" + 0.014*\"warn\" + 0.014*\"driver\" + 0.014*\"flood\" + 0.012*\"street\" + 0.011*\"road\" + 0.010*\"babi\" + 0.009*\"east\"\n",
      "Topic: 1 \n",
      "Words: 0.024*\"world\" + 0.018*\"test\" + 0.016*\"interview\" + 0.014*\"australia\" + 0.012*\"leagu\" + 0.010*\"close\" + 0.009*\"darwin\" + 0.009*\"game\" + 0.009*\"take\" + 0.009*\"deal\"\n",
      "Topic: 2 \n",
      "Words: 0.018*\"council\" + 0.018*\"countri\" + 0.017*\"nation\" + 0.015*\"tasmanian\" + 0.015*\"hour\" + 0.014*\"state\" + 0.013*\"say\" + 0.011*\"citi\" + 0.011*\"news\" + 0.011*\"plan\"\n",
      "Topic: 3 \n",
      "Words: 0.023*\"perth\" + 0.020*\"women\" + 0.018*\"miss\" + 0.018*\"sydney\" + 0.013*\"protest\" + 0.012*\"guilti\" + 0.011*\"search\" + 0.011*\"john\" + 0.011*\"water\" + 0.010*\"continu\"\n",
      "Topic: 4 \n",
      "Words: 0.028*\"elect\" + 0.017*\"live\" + 0.017*\"famili\" + 0.017*\"say\" + 0.016*\"chang\" + 0.011*\"park\" + 0.011*\"polit\" + 0.010*\"leader\" + 0.010*\"christma\" + 0.010*\"parti\"\n",
      "Topic: 5 \n",
      "Words: 0.035*\"trump\" + 0.028*\"queensland\" + 0.025*\"australia\" + 0.015*\"tasmania\" + 0.014*\"turnbul\" + 0.013*\"say\" + 0.012*\"student\" + 0.011*\"case\" + 0.010*\"million\" + 0.010*\"hobart\"\n",
      "Topic: 6 \n",
      "Words: 0.031*\"charg\" + 0.029*\"court\" + 0.019*\"face\" + 0.017*\"murder\" + 0.016*\"final\" + 0.016*\"adelaid\" + 0.015*\"woman\" + 0.015*\"accus\" + 0.015*\"donald\" + 0.014*\"open\"\n",
      "Topic: 7 \n",
      "Words: 0.047*\"polic\" + 0.030*\"year\" + 0.021*\"attack\" + 0.019*\"kill\" + 0.018*\"north\" + 0.017*\"crash\" + 0.017*\"coast\" + 0.017*\"south\" + 0.015*\"alleg\" + 0.014*\"jail\"\n",
      "Topic: 8 \n",
      "Words: 0.032*\"govern\" + 0.019*\"market\" + 0.014*\"australian\" + 0.013*\"share\" + 0.013*\"break\" + 0.011*\"busi\" + 0.011*\"high\" + 0.011*\"bank\" + 0.010*\"port\" + 0.009*\"research\"\n",
      "Topic: 9 \n",
      "Words: 0.016*\"health\" + 0.015*\"rural\" + 0.012*\"servic\" + 0.012*\"price\" + 0.012*\"hous\" + 0.011*\"power\" + 0.011*\"concern\" + 0.011*\"communiti\" + 0.010*\"report\" + 0.009*\"farm\"\n"
     ]
    }
   ],
   "source": [
    "for idx, topic in lda_model.print_topics(-1):\n",
    "    print('Topic: {} \\nWords: {}'.format(idx, topic))"
   ]
  },
  {
   "cell_type": "code",
   "execution_count": null,
   "metadata": {},
   "outputs": [],
   "source": []
  },
  {
   "cell_type": "markdown",
   "metadata": {},
   "source": [
    "### Running LDA using TF-IDF"
   ]
  },
  {
   "cell_type": "code",
   "execution_count": 25,
   "metadata": {},
   "outputs": [
    {
     "name": "stdout",
     "output_type": "stream",
     "text": [
      "Topic: 0 Word: 0.015*\"countri\" + 0.013*\"hour\" + 0.008*\"health\" + 0.007*\"fund\" + 0.006*\"school\" + 0.005*\"council\" + 0.005*\"plan\" + 0.005*\"servic\" + 0.005*\"budget\" + 0.005*\"say\"\n",
      "Topic: 1 Word: 0.008*\"kill\" + 0.007*\"christma\" + 0.007*\"violenc\" + 0.007*\"michael\" + 0.006*\"domest\" + 0.006*\"syria\" + 0.006*\"islam\" + 0.005*\"andrew\" + 0.005*\"toni\" + 0.005*\"capit\"\n",
      "Topic: 2 Word: 0.013*\"govern\" + 0.009*\"sport\" + 0.007*\"climat\" + 0.007*\"asylum\" + 0.006*\"chang\" + 0.006*\"seeker\" + 0.005*\"social\" + 0.005*\"explain\" + 0.005*\"respons\" + 0.004*\"breakfast\"\n",
      "Topic: 3 Word: 0.013*\"market\" + 0.010*\"share\" + 0.007*\"friday\" + 0.007*\"octob\" + 0.006*\"tuesday\" + 0.006*\"australian\" + 0.005*\"april\" + 0.005*\"wrap\" + 0.005*\"open\" + 0.005*\"australia\"\n",
      "Topic: 4 Word: 0.013*\"podcast\" + 0.013*\"drum\" + 0.012*\"turnbul\" + 0.007*\"septemb\" + 0.007*\"cricket\" + 0.007*\"malcolm\" + 0.006*\"jam\" + 0.005*\"interview\" + 0.005*\"appeal\" + 0.005*\"girl\"\n",
      "Topic: 5 Word: 0.017*\"polic\" + 0.012*\"crash\" + 0.012*\"woman\" + 0.011*\"charg\" + 0.010*\"interview\" + 0.009*\"driver\" + 0.008*\"shoot\" + 0.008*\"death\" + 0.008*\"die\" + 0.007*\"fatal\"\n",
      "Topic: 6 Word: 0.007*\"flood\" + 0.007*\"marriag\" + 0.006*\"street\" + 0.006*\"novemb\" + 0.006*\"queensland\" + 0.005*\"david\" + 0.005*\"cyclon\" + 0.005*\"outback\" + 0.004*\"rain\" + 0.004*\"price\"\n",
      "Topic: 7 Word: 0.021*\"trump\" + 0.020*\"rural\" + 0.013*\"news\" + 0.010*\"donald\" + 0.010*\"live\" + 0.007*\"nation\" + 0.007*\"korea\" + 0.006*\"monday\" + 0.006*\"wednesday\" + 0.006*\"thursday\"\n",
      "Topic: 8 Word: 0.009*\"australia\" + 0.008*\"world\" + 0.007*\"final\" + 0.007*\"leagu\" + 0.007*\"grandstand\" + 0.006*\"plead\" + 0.005*\"rugbi\" + 0.005*\"festiv\" + 0.005*\"stori\" + 0.005*\"test\"\n",
      "Topic: 9 Word: 0.013*\"murder\" + 0.009*\"court\" + 0.008*\"charg\" + 0.007*\"juli\" + 0.007*\"hill\" + 0.007*\"accus\" + 0.007*\"peter\" + 0.006*\"mother\" + 0.006*\"trial\" + 0.005*\"alleg\"\n"
     ]
    }
   ],
   "source": [
    "lda_model_tfidf = gensim.models.LdaMulticore(corpus_tfidf, num_topics=10, id2word=dictionary, passes=2, workers=4)\n",
    "for idx, topic in lda_model_tfidf.print_topics(-1):\n",
    "    print('Topic: {} Word: {}'.format(idx, topic))"
   ]
  },
  {
   "cell_type": "code",
   "execution_count": null,
   "metadata": {},
   "outputs": [],
   "source": []
  },
  {
   "cell_type": "code",
   "execution_count": null,
   "metadata": {},
   "outputs": [],
   "source": []
  },
  {
   "cell_type": "markdown",
   "metadata": {},
   "source": [
    "### Performance evaluation by classifying sample document using LDA Bag of Words model\n",
    "     We will check where our test document would be classified."
   ]
  },
  {
   "cell_type": "code",
   "execution_count": null,
   "metadata": {},
   "outputs": [],
   "source": []
  },
  {
   "cell_type": "code",
   "execution_count": 26,
   "metadata": {},
   "outputs": [
    {
     "name": "stdout",
     "output_type": "stream",
     "text": [
      "\n",
      "Score: 0.3140479326248169\t \n",
      "Topic: 0.032*\"govern\" + 0.019*\"market\" + 0.014*\"australian\" + 0.013*\"share\" + 0.013*\"break\" + 0.011*\"busi\" + 0.011*\"high\" + 0.011*\"bank\" + 0.010*\"port\" + 0.009*\"research\"\n",
      "\n",
      "Score: 0.2796989679336548\t \n",
      "Topic: 0.016*\"health\" + 0.015*\"rural\" + 0.012*\"servic\" + 0.012*\"price\" + 0.012*\"hous\" + 0.011*\"power\" + 0.011*\"concern\" + 0.011*\"communiti\" + 0.010*\"report\" + 0.009*\"farm\"\n",
      "\n",
      "Score: 0.2662428915500641\t \n",
      "Topic: 0.028*\"elect\" + 0.017*\"live\" + 0.017*\"famili\" + 0.017*\"say\" + 0.016*\"chang\" + 0.011*\"park\" + 0.011*\"polit\" + 0.010*\"leader\" + 0.010*\"christma\" + 0.010*\"parti\"\n",
      "\n",
      "Score: 0.02000545524060726\t \n",
      "Topic: 0.023*\"perth\" + 0.020*\"women\" + 0.018*\"miss\" + 0.018*\"sydney\" + 0.013*\"protest\" + 0.012*\"guilti\" + 0.011*\"search\" + 0.011*\"john\" + 0.011*\"water\" + 0.010*\"continu\"\n",
      "\n",
      "Score: 0.020002368837594986\t \n",
      "Topic: 0.023*\"death\" + 0.020*\"hospit\" + 0.016*\"trial\" + 0.014*\"warn\" + 0.014*\"driver\" + 0.014*\"flood\" + 0.012*\"street\" + 0.011*\"road\" + 0.010*\"babi\" + 0.009*\"east\"\n",
      "\n",
      "Score: 0.02000097744166851\t \n",
      "Topic: 0.047*\"polic\" + 0.030*\"year\" + 0.021*\"attack\" + 0.019*\"kill\" + 0.018*\"north\" + 0.017*\"crash\" + 0.017*\"coast\" + 0.017*\"south\" + 0.015*\"alleg\" + 0.014*\"jail\"\n",
      "\n",
      "Score: 0.02000078186392784\t \n",
      "Topic: 0.035*\"trump\" + 0.028*\"queensland\" + 0.025*\"australia\" + 0.015*\"tasmania\" + 0.014*\"turnbul\" + 0.013*\"say\" + 0.012*\"student\" + 0.011*\"case\" + 0.010*\"million\" + 0.010*\"hobart\"\n",
      "\n",
      "Score: 0.020000625401735306\t \n",
      "Topic: 0.018*\"council\" + 0.018*\"countri\" + 0.017*\"nation\" + 0.015*\"tasmanian\" + 0.015*\"hour\" + 0.014*\"state\" + 0.013*\"say\" + 0.011*\"citi\" + 0.011*\"news\" + 0.011*\"plan\"\n",
      "\n",
      "Score: 0.019999999552965164\t \n",
      "Topic: 0.024*\"world\" + 0.018*\"test\" + 0.016*\"interview\" + 0.014*\"australia\" + 0.012*\"leagu\" + 0.010*\"close\" + 0.009*\"darwin\" + 0.009*\"game\" + 0.009*\"take\" + 0.009*\"deal\"\n",
      "\n",
      "Score: 0.019999999552965164\t \n",
      "Topic: 0.031*\"charg\" + 0.029*\"court\" + 0.019*\"face\" + 0.017*\"murder\" + 0.016*\"final\" + 0.016*\"adelaid\" + 0.015*\"woman\" + 0.015*\"accus\" + 0.015*\"donald\" + 0.014*\"open\"\n"
     ]
    }
   ],
   "source": [
    "for index, score in sorted(lda_model[bow_corpus[4310]], key=lambda tup: -1*tup[1]):\n",
    "    print(\"\\nScore: {}\\t \\nTopic: {}\".format(score, lda_model.print_topic(index, 10)))\n"
   ]
  },
  {
   "cell_type": "markdown",
   "metadata": {},
   "source": [
    ">Our test document has the highest probability to be part of the topic that our model assigned, which is the accurate           classification."
   ]
  },
  {
   "cell_type": "code",
   "execution_count": null,
   "metadata": {},
   "outputs": [],
   "source": []
  },
  {
   "cell_type": "markdown",
   "metadata": {},
   "source": [
    "### Performance evaluation by classifying sample document using LDA TF-IDF model."
   ]
  },
  {
   "cell_type": "code",
   "execution_count": 27,
   "metadata": {},
   "outputs": [
    {
     "name": "stdout",
     "output_type": "stream",
     "text": [
      "\n",
      "Score: 0.5569300651550293\t \n",
      "Topic: 0.007*\"flood\" + 0.007*\"marriag\" + 0.006*\"street\" + 0.006*\"novemb\" + 0.006*\"queensland\" + 0.005*\"david\" + 0.005*\"cyclon\" + 0.005*\"outback\" + 0.004*\"rain\" + 0.004*\"price\"\n",
      "\n",
      "Score: 0.28305596113204956\t \n",
      "Topic: 0.013*\"podcast\" + 0.013*\"drum\" + 0.012*\"turnbul\" + 0.007*\"septemb\" + 0.007*\"cricket\" + 0.007*\"malcolm\" + 0.006*\"jam\" + 0.005*\"interview\" + 0.005*\"appeal\" + 0.005*\"girl\"\n",
      "\n",
      "Score: 0.02000384032726288\t \n",
      "Topic: 0.015*\"countri\" + 0.013*\"hour\" + 0.008*\"health\" + 0.007*\"fund\" + 0.006*\"school\" + 0.005*\"council\" + 0.005*\"plan\" + 0.005*\"servic\" + 0.005*\"budget\" + 0.005*\"say\"\n",
      "\n",
      "Score: 0.020002331584692\t \n",
      "Topic: 0.017*\"polic\" + 0.012*\"crash\" + 0.012*\"woman\" + 0.011*\"charg\" + 0.010*\"interview\" + 0.009*\"driver\" + 0.008*\"shoot\" + 0.008*\"death\" + 0.008*\"die\" + 0.007*\"fatal\"\n",
      "\n",
      "Score: 0.020001739263534546\t \n",
      "Topic: 0.008*\"kill\" + 0.007*\"christma\" + 0.007*\"violenc\" + 0.007*\"michael\" + 0.006*\"domest\" + 0.006*\"syria\" + 0.006*\"islam\" + 0.005*\"andrew\" + 0.005*\"toni\" + 0.005*\"capit\"\n",
      "\n",
      "Score: 0.020001718774437904\t \n",
      "Topic: 0.013*\"govern\" + 0.009*\"sport\" + 0.007*\"climat\" + 0.007*\"asylum\" + 0.006*\"chang\" + 0.006*\"seeker\" + 0.005*\"social\" + 0.005*\"explain\" + 0.005*\"respons\" + 0.004*\"breakfast\"\n",
      "\n",
      "Score: 0.02000146172940731\t \n",
      "Topic: 0.013*\"murder\" + 0.009*\"court\" + 0.008*\"charg\" + 0.007*\"juli\" + 0.007*\"hill\" + 0.007*\"accus\" + 0.007*\"peter\" + 0.006*\"mother\" + 0.006*\"trial\" + 0.005*\"alleg\"\n",
      "\n",
      "Score: 0.02000126615166664\t \n",
      "Topic: 0.021*\"trump\" + 0.020*\"rural\" + 0.013*\"news\" + 0.010*\"donald\" + 0.010*\"live\" + 0.007*\"nation\" + 0.007*\"korea\" + 0.006*\"monday\" + 0.006*\"wednesday\" + 0.006*\"thursday\"\n",
      "\n",
      "Score: 0.020000938326120377\t \n",
      "Topic: 0.013*\"market\" + 0.010*\"share\" + 0.007*\"friday\" + 0.007*\"octob\" + 0.006*\"tuesday\" + 0.006*\"australian\" + 0.005*\"april\" + 0.005*\"wrap\" + 0.005*\"open\" + 0.005*\"australia\"\n",
      "\n",
      "Score: 0.020000681281089783\t \n",
      "Topic: 0.009*\"australia\" + 0.008*\"world\" + 0.007*\"final\" + 0.007*\"leagu\" + 0.007*\"grandstand\" + 0.006*\"plead\" + 0.005*\"rugbi\" + 0.005*\"festiv\" + 0.005*\"stori\" + 0.005*\"test\"\n"
     ]
    }
   ],
   "source": [
    "for index, score in sorted(lda_model_tfidf[bow_corpus[4310]], key=lambda tup: -1*tup[1]):\n",
    "    print(\"\\nScore: {}\\t \\nTopic: {}\".format(score, lda_model_tfidf.print_topic(index, 10)))"
   ]
  },
  {
   "cell_type": "markdown",
   "metadata": {},
   "source": [
    "Our test document has the highest probability to be part of the topic that our model assigned, which is the accurate classification."
   ]
  },
  {
   "cell_type": "code",
   "execution_count": null,
   "metadata": {},
   "outputs": [],
   "source": []
  },
  {
   "cell_type": "markdown",
   "metadata": {},
   "source": [
    "## Testing model on unseen document"
   ]
  },
  {
   "cell_type": "code",
   "execution_count": 29,
   "metadata": {},
   "outputs": [
    {
     "name": "stdout",
     "output_type": "stream",
     "text": [
      "Score: 0.34999728202819824\t Topic: 0.028*\"elect\" + 0.017*\"live\" + 0.017*\"famili\" + 0.017*\"say\" + 0.016*\"chang\"\n",
      "Score: 0.1833333522081375\t Topic: 0.032*\"govern\" + 0.019*\"market\" + 0.014*\"australian\" + 0.013*\"share\" + 0.013*\"break\"\n",
      "Score: 0.18333321809768677\t Topic: 0.035*\"trump\" + 0.028*\"queensland\" + 0.025*\"australia\" + 0.015*\"tasmania\" + 0.014*\"turnbul\"\n",
      "Score: 0.1833287924528122\t Topic: 0.024*\"world\" + 0.018*\"test\" + 0.016*\"interview\" + 0.014*\"australia\" + 0.012*\"leagu\"\n",
      "Score: 0.01667126454412937\t Topic: 0.023*\"death\" + 0.020*\"hospit\" + 0.016*\"trial\" + 0.014*\"warn\" + 0.014*\"driver\"\n",
      "Score: 0.016668619588017464\t Topic: 0.016*\"health\" + 0.015*\"rural\" + 0.012*\"servic\" + 0.012*\"price\" + 0.012*\"hous\"\n",
      "Score: 0.016667502000927925\t Topic: 0.023*\"perth\" + 0.020*\"women\" + 0.018*\"miss\" + 0.018*\"sydney\" + 0.013*\"protest\"\n",
      "Score: 0.01666666753590107\t Topic: 0.018*\"council\" + 0.018*\"countri\" + 0.017*\"nation\" + 0.015*\"tasmanian\" + 0.015*\"hour\"\n",
      "Score: 0.01666666753590107\t Topic: 0.031*\"charg\" + 0.029*\"court\" + 0.019*\"face\" + 0.017*\"murder\" + 0.016*\"final\"\n",
      "Score: 0.01666666753590107\t Topic: 0.047*\"polic\" + 0.030*\"year\" + 0.021*\"attack\" + 0.019*\"kill\" + 0.018*\"north\"\n"
     ]
    }
   ],
   "source": [
    "unseen_document = 'How a Pentagon deal became an identity crisis for Google'\n",
    "bow_vector = dictionary.doc2bow(preprocess(unseen_document))\n",
    "for index, score in sorted(lda_model[bow_vector], key=lambda tup: -1*tup[1]):\n",
    "    print(\"Score: {}\\t Topic: {}\".format(score, lda_model.print_topic(index, 5)))"
   ]
  },
  {
   "cell_type": "code",
   "execution_count": null,
   "metadata": {},
   "outputs": [],
   "source": []
  },
  {
   "cell_type": "code",
   "execution_count": null,
   "metadata": {},
   "outputs": [],
   "source": []
  },
  {
   "cell_type": "code",
   "execution_count": null,
   "metadata": {},
   "outputs": [],
   "source": []
  },
  {
   "cell_type": "code",
   "execution_count": null,
   "metadata": {},
   "outputs": [],
   "source": []
  }
 ],
 "metadata": {
  "kernelspec": {
   "display_name": "Python 3",
   "language": "python",
   "name": "python3"
  },
  "language_info": {
   "codemirror_mode": {
    "name": "ipython",
    "version": 3
   },
   "file_extension": ".py",
   "mimetype": "text/x-python",
   "name": "python",
   "nbconvert_exporter": "python",
   "pygments_lexer": "ipython3",
   "version": "3.7.3"
  }
 },
 "nbformat": 4,
 "nbformat_minor": 2
}
